{
 "cells": [
  {
   "cell_type": "markdown",
   "id": "72021a53-0731-488b-8743-7fba29cc6c13",
   "metadata": {},
   "source": [
    "# INX Future Inc Employee Performance"
   ]
  },
  {
   "cell_type": "markdown",
   "id": "d529d8e9-e49a-4c90-a49e-0b6d1ee782d6",
   "metadata": {},
   "source": [
    "# Project Summary"
   ]
  },
  {
   "cell_type": "markdown",
   "id": "ad99cdd4-077b-4db1-a0e5-2b45706519ae",
   "metadata": {},
   "source": [
    "This Data Science project shared here is  about analyzing employee performance. We're basically trying to figure out the employee performance rating based on dependent features, ie:- Gender, Age, Experianceincurrentrole, jobsatsifaction and etc.\n",
    "\n",
    "* The dataset provided by inx feature Inc consists 1200 rows and 28 features, in this, 19 features are quantitative and 8 features are qualitative.\n",
    "* majority of features in the dataset could not be used for model building\n",
    "* \n",
    "Only a handful of features significantly influence the performance ratin\n",
    "* The primary objective of this project is to identify the key factors impacting performance ratings. These influential features were determined using machine learning model feature importance techniques. Preprocessing involved utilizing the Label Encoding method to convert categorical data into numerical format, as most machine learning algorithms require numerical input. The project successfully achieved its goals through the application of machine learning models and visualization techniques. "
   ]
  },
  {
   "cell_type": "markdown",
   "id": "86824681-f177-45cf-a327-260754005254",
   "metadata": {},
   "source": [
    "# Requirement\n",
    "The data for this project was provided by IABAC, with the source being IABAC™. It pertains to INX Future Inc, also known as INX, a prominent data analytics and automation solutions provider with a global business presence of over 15 years. INX has consistently been ranked among the top 20 best employers for the past 5 years. It's important to note that the data is not from a real organization, but rather simulated for the purposes of this project. The entire project was conducted using the Jupyter Notebook with the Python platform"
   ]
  },
  {
   "cell_type": "markdown",
   "id": "23055737-0c1b-43de-a8f3-3eb4cb10e5b2",
   "metadata": {},
   "source": [
    "# Analysis"
   ]
  },
  {
   "cell_type": "markdown",
   "id": "8aa96c7f-8da7-45b0-80da-d1efbec83961",
   "metadata": {},
   "source": [
    "The analysis involved examining the features within the dataset, which are pivotal in understanding the relationship between dependent and independent variables. Pandas facilitated this analysis by providing insights into the dataset, addressing key questions early in the project. The dataset consists of both numerical and categorical data.\r\n",
    "\r\n",
    "- Categorical Features\r\n",
    "\r\n",
    "  These values classify the samples into sets of similar samples. Within categorical features are the values nominal, ordinal, ratio, or interval based. The categorical features are as follows:\r\n",
    "  \r\n",
    "  - EmpNumber\r\n",
    "  - Gender\r\n",
    "  - EducationBackground\r\n",
    "  - MaritalStatus\r\n",
    "  - EmpDepartment\r\n",
    "  - EmpJobRole\r\n",
    "  - BusinessTravelFrequency\r\n",
    "  - OverTime\r\n",
    "  - Attrition\r\n",
    "  \r\n",
    "- Numerical Features\r\n",
    "\r\n",
    "  These values change from sample to sample. Within numerical features, the values are discrete, ordinal, continuous, or timeseries based. The Numerical Features are as follows:\r\n",
    "  \r\n",
    "  - Age\r\n",
    "  - DistanceFromHome\r\n",
    "  - EmpHourlyRate\r\n",
    "  - NumCompaniesWorked\r\n",
    "  - EmpLastSalaryHikePercent\r\n",
    "  - TotalWorkExperienceInYears\r\n",
    "  - TrainingTimesLastYear\r\n",
    "  - ExperienceYearsAtThisCompany\r\n",
    "  - ExperienceYearsInCurrentRole\r\n",
    "  - YearsSinceLastPromotion\r\n",
    "  - YearsWithCurrManager\r\n",
    "  \r\n",
    "- Ordinal Features\r\n",
    "\r\n",
    "  - EmpEducationLevel\r\n",
    "  - EmpEnvironmentSatisfaction\r\n",
    "  - EmpJobInvolvement\r\n",
    "  - EmpJobLevel\r\n",
    "  - EmpJobSatisfaction\r\n",
    "  - EmpRelationshipSatisfaction\r\n",
    "  - \n",
    " \n",
    "- This data does not require any preprocessing techinique as it does not have any null values, only the preprocessing techinique is use to treat\n",
    "- outliers in the dataEmpWorkLifeBalance\r\n",
    "  - PerformanceRating\r\n",
    "WorkLifeBalance\r\n",
    "PerformanceRating"
   ]
  },
  {
   "cell_type": "markdown",
   "id": "45a3aa23-12b7-4efd-bdd7-10697879322a",
   "metadata": {},
   "source": [
    "# Summary"
   ]
  },
  {
   "cell_type": "markdown",
   "id": "208e2824-359b-433d-9a2c-c1652c73b775",
   "metadata": {},
   "source": [
    "\n",
    "\n",
    "**The goal of the project is**\n",
    "1. Department wise performances\n",
    "2. Top 3 Important Factors effecting employee performance\n",
    "3. A trained model which can predict the employee performance based on factors as inputs. This will be used to hire employees\n",
    "4. Recommendations to improve the employee performance based on insights from analysis.\n",
    "\n",
    "- **The algorithm and training methods**.\n",
    "  * In this project, the ML algorithms are Logistic Regression, SVC, Random Forest and Gradient boosting techinique, the accuracy of Logistic and SVC\n",
    " **(67% and 75%)** but the Ensamble methods like Random Forest and Gradient Boosting methods gave better accuracy **(93%)** even after with Hyperparameter thning.\n",
    "\n",
    "\n",
    "\n",
    "- **The most important features selected for analysis**.\n",
    "  * **Recursive Feature Elimination (RFE)** is a feature selection technique that recursively removes features from a model and selects the most relevant features based on their importance. It starts by training the model on the full set of features and subsequently removing the least important feature(s) based on a specified criterion, such as feature weights or importance scores. This process is repeated until the desired number of features is reached or until a predetermined stopping criterion is met. RFE helps improve model interpretability, reduce overfitting, and enhance model performance by focusing on the most informative features for prediction.\n",
    "  * These **Six feautres** EmpJobRole, EmpEnvironmentSatisfaction, EmpHourlyRate, EmpLastSalaryHikePercent, ExperienceYearsAtThisCompany, YearsSinceLastPromotion are used to build the model, This feature selection techinique gave me best accuracy with these feautres, so, i have chosen to select these features for model building.\n",
    " \n",
    "    \n",
    "- **Other techniques and tools used in the project**\n",
    "    * Winsorization techinique are used to treat outliers\n",
    "    * Imbalanced pipeline is used for Hyperparameter tuning"
   ]
  },
  {
   "cell_type": "code",
   "execution_count": null,
   "id": "72cde2cc-136d-48e6-9dee-6a06d8cd3855",
   "metadata": {},
   "outputs": [],
   "source": []
  },
  {
   "cell_type": "markdown",
   "id": "216bae37-7753-4dd1-b478-687c2af53a5d",
   "metadata": {},
   "source": [
    "mThe following insights are expected from this project. 1. Department wise performances 2. Top 3 Important Factors effecting employee performance 3. A trained model which can predict the employee performance based on factors as inputs. This will be used to hire employees 4. Recommendations to improve the employee performance based on insights from analysis. "
   ]
  },
  {
   "cell_type": "markdown",
   "id": "1cbe53e0-9164-4188-bc84-e148c7483f49",
   "metadata": {},
   "source": [
    "# The main aims of this project\n",
    "### 1. Department wise performances\n",
    "1. The majority of employees in the **Sales department** achieve level 3 performance ratings, with males slightly outperforming females, while work experience shows minimal impact on performance.\n",
    "2. Most employees in **Human Resources** attain level 3 performance ratings, with older employees performing less effectively, although female employees excel, and work experience significantly influences performance.\n",
    "3. The **Development department** sees a large number of employees achieving level 3 performance across all age groups, with a balanced performance distribution between genders. \n",
    "4. **Data Science** records the highest average of level 3 performance, with fewer employees at level 2, and age having little impact on performance, while males tend to perform well, and work experience is influential.\n",
    "   \n",
    "5. Age does not significantly influence performance in the **Research & Development department**, which showcases strong female performers. \n",
    "6. Performance in the **Finance department** declines with age, yet males perform well, and experience inversely affects performance levels.\n",
    "\n",
    "### 2.Top 3 Important Factors effecting employee performance\n",
    "1. Employee Salary Hike Percentage\n",
    "2. EmpEnvironmentSatisfactione\n",
    "3. YearsSinceLastPromotionle\n",
    "### 3.A trained model which can predict the employee performance based on factors as inputs. This will be used to hire employees \n",
    "1.  EmpJobRole\n",
    "2.   EmpEnvironmentSatisfaction\n",
    "3.    EmpHourlyRate\n",
    "4. EmpLastSalaryHikePercent\n",
    "5.  ExperienceYearsAtThisCompany\n",
    "6.   YearsSinceLastPromotion\n",
    "\n",
    "### 4. Recommendations to improve the employee performance based on insights from analysis\n"
   ]
  },
  {
   "cell_type": "code",
   "execution_count": null,
   "id": "f783fa98-b2ed-45c5-9ae8-1c8e4d4b17aa",
   "metadata": {},
   "outputs": [],
   "source": []
  },
  {
   "cell_type": "code",
   "execution_count": null,
   "id": "f582e0f2-8e33-4721-985d-2e30add259db",
   "metadata": {},
   "outputs": [],
   "source": []
  },
  {
   "cell_type": "code",
   "execution_count": null,
   "id": "54de267d-b01c-4ee5-9776-b33352e75f31",
   "metadata": {},
   "outputs": [],
   "source": []
  },
  {
   "cell_type": "code",
   "execution_count": null,
   "id": "969b8a6e-0319-4b8a-9b52-517a7a9d6e4e",
   "metadata": {},
   "outputs": [],
   "source": []
  }
 ],
 "metadata": {
  "kernelspec": {
   "display_name": "Python 3 (ipykernel)",
   "language": "python",
   "name": "python3"
  },
  "language_info": {
   "codemirror_mode": {
    "name": "ipython",
    "version": 3
   },
   "file_extension": ".py",
   "mimetype": "text/x-python",
   "name": "python",
   "nbconvert_exporter": "python",
   "pygments_lexer": "ipython3",
   "version": "3.11.5"
  }
 },
 "nbformat": 4,
 "nbformat_minor": 5
}
